{
 "cells": [
  {
   "cell_type": "code",
   "execution_count": 6,
   "metadata": {},
   "outputs": [
    {
     "ename": "IsADirectoryError",
     "evalue": "[Errno 21] Is a directory: '/Users/martinadisegni/Desktop'",
     "output_type": "error",
     "traceback": [
      "\u001b[0;31m---------------------------------------------------------------------------\u001b[0m",
      "\u001b[0;31mIsADirectoryError\u001b[0m                         Traceback (most recent call last)",
      "\u001b[0;32m/var/folders/sk/37hlzf8d2v39btvp5qh5m8c80000gn/T/ipykernel_89942/55289947.py\u001b[0m in \u001b[0;36m<module>\u001b[0;34m\u001b[0m\n\u001b[1;32m      6\u001b[0m \u001b[0;34m\u001b[0m\u001b[0m\n\u001b[1;32m      7\u001b[0m \u001b[0;31m# importing the dataset\u001b[0m\u001b[0;34m\u001b[0m\u001b[0;34m\u001b[0m\u001b[0m\n\u001b[0;32m----> 8\u001b[0;31m \u001b[0mdf\u001b[0m\u001b[0;34m=\u001b[0m \u001b[0mpd\u001b[0m\u001b[0;34m.\u001b[0m\u001b[0mread_csv\u001b[0m\u001b[0;34m(\u001b[0m\u001b[0mopen\u001b[0m\u001b[0;34m(\u001b[0m\u001b[0;34m'/Users/martinadisegni/Desktop'\u001b[0m\u001b[0;34m)\u001b[0m\u001b[0;34m)\u001b[0m\u001b[0;34m\u001b[0m\u001b[0;34m\u001b[0m\u001b[0m\n\u001b[0m",
      "\u001b[0;31mIsADirectoryError\u001b[0m: [Errno 21] Is a directory: '/Users/martinadisegni/Desktop'"
     ]
    }
   ],
   "source": [
<<<<<<< Updated upstream
    "# AI and ML - group project\n",
    "\n",
    "# Importing libraries \n",
    "import pandas as pd\n",
    "import matplotlib.pyplot as plt\n",
    "import numpy as np\n",
    "import seaborn as sns\n",
    "\n",
    "# Importing data \n",
    "df = pd.read_csv(r'C:/Users/eleon/Desktop/ai.project/customer_segmentation.csv')\n",
    "print(df)\n",
    "\n",
    "# Taking a look at the data structure\n",
    "#df.describe( ) on the data to se the statistic of each variable \n",
    "\n",
    "df.describe() \n",
    "df.head()\n",
    "df.info()\n",
    "df.describe()\n",
    "df.shape\n",
    "\n",
    "# Data preparation\n",
    "df.duplicated().sum()\n",
    "\n",
    "def fix_duplicates(Dataframe):\n",
    "  dataframeHeaders = list(Dataframe)\n",
    "  del dataframeHeaders[0]\n",
    "  Dataframe.drop_duplicates(subset = dataframeHeaders, keep = 'first', inplace = True)\n",
    "  Dataframe.reset_index(drop = True, inplace = True)\n",
    "  return Dataframe\n",
    "\n",
    "df = fix_duplicates(df)\n",
    "\n",
    "df.isnull().sum()\n",
    "\n",
    "plt.figure()\n",
    "df.reset_index().plot(kind='scatter', x='index', y='payment_installments')\n",
    "plt.figure()\n",
    "df.reset_index().plot(kind='scatter', x='index', y='payment_value')\n",
    "\n",
    "mean_pv = df[\"payment_value\"].mean()\n",
    "std_pv = df[\"payment_value\"].std()\n",
    "outlier1 = df[df['payment_value'] > 4000]\n",
    "  \n",
    "print('\\nOutlier dataframe:\\n', outlier1)\n",
    "\n",
    "df = df.drop(df[df.payment_value > 4000].index)\n",
    "df = df.reset_index(drop = True)\n",
    "\n",
    "plt.figure()\n",
    "df.reset_index().plot(kind='scatter', x='index', y='payment_value')\n",
    "plt.figure()\n",
    "df.reset_index().plot(kind='scatter', x='index', y='price')\n",
    "plt.figure()\n",
    "df.reset_index().plot(kind='scatter', x='index', y='freight_value')\n",
    "plt.figure()\n",
    "sns.countplot(y='customer_state', data=df )\n",
    "plt.figure()\n",
    "sns.heatmap(df.corr(), annot=True)\n",
    "plt.figure()\n",
    "corr_matrix = df.corr()\n",
    "\n",
    "# Encoding\n",
    "df['customer_state'] = df['customer_state'].map('customer_state: {}'.format)\n",
    "df['seller_state'] = df['seller_state'].map('seller_state: {}'.format)\n",
    "\n",
    "state_cat = df['customer_state'].values.tolist()\n",
    "order_cat = df['order_status'].values.tolist()\n",
    "payment_cat = df['payment_type'].values.tolist()\n",
    "seller_cat = df['seller_state'].values.tolist()\n",
    "product_cat = df['product_category_name_english'].values.tolist()\n",
    "\n",
    "def categorize(df, categories, columnName):\n",
    "    for category in categories:\n",
    "        df[category] = np.where(df[columnName].str.contains(category), 1, 0)\n",
    "    return df\n",
    "\n",
    "df = categorize(df, state_cat, 'customer_state')\n",
    "df = categorize(df, order_cat, 'order_status')\n",
    "df = categorize(df, payment_cat, 'payment_type')\n",
    "df = categorize(df, seller_cat, 'seller_state')\n",
    "df = categorize(df, product_cat, 'product_category_name_english')\n",
    "\n",
    "# Feature scaling\n",
    "from sklearn.preprocessing import StandardScaler\n",
    "scaler = StandardScaler() \n",
    "\n",
    "# Creating a test set\n",
    "from sklearn.model_selection import train_test_split\n",
    "train_set, test_set = train_test_split(df, test_size=0.2, random_state=42)\n"
=======
    "# importing libraries\n",
    "import pandas as pd\n",
    "import matplotlib.pyplot as mpl\n",
    "import numpy as np\n",
    "import seaborn as sns\n",
    "\n",
    "# importing the dataset\n",
    "df= pd.read_csv(open('/Users/martinadisegni/Desktop'))"
>>>>>>> Stashed changes
   ]
  }
 ],
 "metadata": {
  "kernelspec": {
   "display_name": "Python 3.9.7 ('base')",
   "language": "python",
   "name": "python3"
  },
  "language_info": {
   "codemirror_mode": {
    "name": "ipython",
    "version": 3
   },
   "file_extension": ".py",
   "mimetype": "text/x-python",
   "name": "python",
   "nbconvert_exporter": "python",
   "pygments_lexer": "ipython3",
   "version": "3.9.7"
  },
  "orig_nbformat": 4,
  "vscode": {
   "interpreter": {
    "hash": "982be9b5d6a4da536811d55e5d19be9782a8773b2b033b592297684ab05ab4c9"
   }
  }
 },
 "nbformat": 4,
 "nbformat_minor": 2
}
