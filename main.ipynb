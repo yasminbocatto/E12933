{
 "cells": [
  {
   "cell_type": "code",
   "execution_count": null,
   "metadata": {},
   "outputs": [],
   "source": [
    "import numpy as np"
   ]
  }
 ],
 "metadata": {
  "kernelspec": {
   "display_name": "Python 3.9.7 ('base')",
   "language": "python",
   "name": "python3"
  },
  "language_info": {
   "name": "python",
   "version": "3.9.7"
  },
  "orig_nbformat": 4,
  "vscode": {
   "interpreter": {
    "hash": "982be9b5d6a4da536811d55e5d19be9782a8773b2b033b592297684ab05ab4c9"
   }
  }
 },
 "nbformat": 4,
 "nbformat_minor": 2
}
