{
 "cells": [
  {
   "cell_type": "code",
   "execution_count": 2,
   "metadata": {},
   "outputs": [
    {
     "ename": "ModuleNotFoundError",
     "evalue": "No module named 'sklearn'",
     "output_type": "error",
     "traceback": [
      "\u001b[1;31m---------------------------------------------------------------------------\u001b[0m",
      "\u001b[1;31mModuleNotFoundError\u001b[0m                       Traceback (most recent call last)",
      "\u001b[1;32mc:\\Users\\eleon\\Desktop\\AI proget\\E12933\\main.ipynb Cella 1\u001b[0m in \u001b[0;36m<cell line: 4>\u001b[1;34m()\u001b[0m\n\u001b[0;32m      <a href='vscode-notebook-cell:/c%3A/Users/eleon/Desktop/AI%20proget/E12933/main.ipynb#W0sZmlsZQ%3D%3D?line=0'>1</a>\u001b[0m \u001b[39m# AI and ML - group project\u001b[39;00m\n\u001b[0;32m      <a href='vscode-notebook-cell:/c%3A/Users/eleon/Desktop/AI%20proget/E12933/main.ipynb#W0sZmlsZQ%3D%3D?line=1'>2</a>\u001b[0m \n\u001b[0;32m      <a href='vscode-notebook-cell:/c%3A/Users/eleon/Desktop/AI%20proget/E12933/main.ipynb#W0sZmlsZQ%3D%3D?line=2'>3</a>\u001b[0m \u001b[39m# Importing libraries\u001b[39;00m\n\u001b[1;32m----> <a href='vscode-notebook-cell:/c%3A/Users/eleon/Desktop/AI%20proget/E12933/main.ipynb#W0sZmlsZQ%3D%3D?line=3'>4</a>\u001b[0m \u001b[39mfrom\u001b[39;00m \u001b[39msklearn\u001b[39;00m\u001b[39m.\u001b[39;00m\u001b[39mmetrics\u001b[39;00m \u001b[39mimport\u001b[39;00m silhouette_score\n\u001b[0;32m      <a href='vscode-notebook-cell:/c%3A/Users/eleon/Desktop/AI%20proget/E12933/main.ipynb#W0sZmlsZQ%3D%3D?line=4'>5</a>\u001b[0m \u001b[39mfrom\u001b[39;00m \u001b[39mpandas\u001b[39;00m\u001b[39m.\u001b[39;00m\u001b[39mplotting\u001b[39;00m \u001b[39mimport\u001b[39;00m parallel_coordinates\n\u001b[0;32m      <a href='vscode-notebook-cell:/c%3A/Users/eleon/Desktop/AI%20proget/E12933/main.ipynb#W0sZmlsZQ%3D%3D?line=5'>6</a>\u001b[0m \u001b[39mfrom\u001b[39;00m \u001b[39msklearn\u001b[39;00m\u001b[39m.\u001b[39;00m\u001b[39mcluster\u001b[39;00m \u001b[39mimport\u001b[39;00m DBSCAN\n",
      "\u001b[1;31mModuleNotFoundError\u001b[0m: No module named 'sklearn'"
     ]
    }
   ],
   "source": [
    "\n",
    "\n",
    "# Encoding variables\n",
    "df = pd.get_dummies(df, prefix=['customer_state: '], columns=[\n",
    "                    'customer_state'], drop_first=False)\n",
    "df = pd.get_dummies(df, prefix=['payment_type: '], columns=[\n",
    "                    'payment_type'], drop_first=False)\n",
    "df = pd.get_dummies(df, prefix=['seller_state: '], columns=[\n",
    "                    'seller_state'], drop_first=False)\n",
    "df = pd.get_dummies(df, prefix=['product_category_name: '], columns=[\n",
    "                    'product_category_name_english'], drop_first=False)\n",
    "\n",
    "# Calculating the RFM\n",
    "\n",
    "# Recency = time since a customer's last purchase\n",
    "# Calculating each purchasing time stamp minus the most recent purchase timestamp (max)\n",
    "df['recency'] = max(df['order_purchase_timestamp']) - \\\n",
    "    df['order_purchase_timestamp']\n",
    "# Getting the minimum recency value for each customer (customer with multiple purchases ended up with multiple recencies, therefore calculating the most recent purchase)\n",
    "df['recency'] = df.groupby(['customer_unique_id'], as_index=False)[\n",
    "    'recency'].transform('min')\n",
    "# Keeping only the days in the column, leaving out the time\n",
    "df['recency'] = df['recency'].dt.days\n",
    "\n",
    "# Frequency = how many times has a customer made a purchase\n",
    "# Counting purchases per customer unique id and adding values to a new column in the dataset\n",
    "df['frequency'] = df.groupby(['customer_unique_id'], as_index=False)[\n",
    "    'order_id'].transform('count')\n",
    "\n",
    "# Monetary = total amount a customer has spend purchasing products\n",
    "# Calculating it by summing all the payment values a customer has spent\n",
    "df['monetary'] = df.groupby(['customer_unique_id'], as_index=False)[\n",
    "    'payment_value'].transform('sum')\n",
    "\n",
    "# Creating an empty column to calculate recency score\n",
    "df['recency_score'] = ''\n",
    "\n",
    "# For function that inputs the score in the empty column based on the conditions set\n",
    "# The numbers were chosen based of the recency mean, std, max and min + our reasoning considered aspects like \"how many months could we consider the customer inactive?\"\n",
    "print('recency mean: ', df['recency'].mean())\n",
    "print('recency std: ', df['recency'].std())\n",
    "print('recency max: ', df['recency'].max())\n",
    "print('recency min: ', df['recency'].min())\n",
    "\n",
    "for i in df.index:\n",
    "    if df['recency'][i] <= 30:\n",
    "        df['recency_score'][i] = 5\n",
    "    elif (df['recency'][i] > 30) and (df['recency'][i] <= 60):\n",
    "        df['recency_score'][i] = 4\n",
    "    elif (df['recency'][i] > 60) and (df['recency'][i] <= 120):\n",
    "        df['recency_score'][i] = 3\n",
    "    elif (df['recency'][i] > 120) and (df['recency'][i] <= 180):\n",
    "        df['recency_score'][i] = 2\n",
    "    elif (df['recency'][i] > 180):\n",
    "        df['recency_score'][i] = 1\n",
    "\n",
    "# Creating an empty column to calculate frequency score\n",
    "df['frequency_score'] = ''\n",
    "\n",
    "# For function that inputs the score in the empty column based on the conditions set\n",
    "# The numbers were chosen based of the recency mean, std, max and min + our reasoning considered aspects like \"most customers purchased only one time, and max purchases were 13, how can we score from 0 to above\"\n",
    "print('frequency mean: ', df['frequency'].mean())\n",
    "print('frequency std: ', df['frequency'].std())\n",
    "print('frequency max: ', df['frequency'].max())\n",
    "print('frequency min: ', df['frequency'].min())\n",
    "\n",
    "for i in df.index:\n",
    "    if df['frequency'][i] >= 10:\n",
    "        df['frequency_score'][i] = 5\n",
    "    elif (df['frequency'][i] >= 6) and (df['frequency'][i] < 10):\n",
    "        df['frequency_score'][i] = 4\n",
    "    elif (df['frequency'][i] >= 4) and (df['frequency'][i] < 6):\n",
    "        df['frequency_score'][i] = 3\n",
    "    elif (df['frequency'][i] >= 2) and (df['frequency'][i] < 4):\n",
    "        df['frequency_score'][i] = 2\n",
    "    elif (df['frequency'][i] == 1):\n",
    "        df['frequency_score'][i] = 1\n",
    "\n",
    "# Creating an empty column to calculate monetary score\n",
    "df['monetary_score'] = ''\n",
    "\n",
    "# For function that inputs the score in the empty column based on the conditions set\n",
    "# The numbers were chosen based of the recency mean, std, max and min + our reasoning considered aspects like \"the mean of the payment was 395.1, and the std is 1090.5, how can we score the customers based on spending\"\n",
    "print('monetary mean: ', df['monetary'].mean())\n",
    "print('monetary std: ', df['monetary'].std())\n",
    "print('monetary max: ', df['monetary'].max())\n",
    "print('monetary min: ', df['monetary'].min())\n",
    "\n",
    "for i in df.index:\n",
    "    if df['monetary'][i] > 500:\n",
    "        df['monetary_score'][i] = 5\n",
    "    elif (df['monetary'][i] > 250) and (df['monetary'][i] <= 500):\n",
    "        df['monetary_score'][i] = 4\n",
    "    elif (df['monetary'][i] > 150) and (df['monetary'][i] <= 250):\n",
    "        df['monetary_score'][i] = 3\n",
    "    elif (df['monetary'][i] > 100) and (df['monetary'][i] <= 150):\n",
    "        df['monetary_score'][i] = 2\n",
    "    elif (df['monetary'][i] <= 100):\n",
    "        df['monetary_score'][i] = 1\n",
    "\n",
    "# Uniting the scores in the same columns to find segments such as 555 (5 score for all rfm)\n",
    "df['rfm_segment'] = df['recency_score'].astype(\n",
    "    str) + df['frequency_score'].astype(str) + df['monetary_score'].astype(str)\n",
    "\n",
    "# Calculating total score (sum of all val)\n",
    "\n",
    "# Turning all numbers from last created columns to numeric variables to use in future analysis\n",
    "df['rfm_segment'] = pd.to_numeric(df['rfm_segment'])\n",
    "df['recency_score'] = pd.to_numeric(df['recency_score'])\n",
    "df['frequency_score'] = pd.to_numeric(df['frequency_score'])\n",
    "df['monetary_score'] = pd.to_numeric(df['monetary_score'])\n",
    "\n",
    "# Creating a dataframe with the rfm variables that are going to be used in the clustering algorithms\n",
    "rfm = df[['recency', 'frequency', 'monetary']]\n",
    "\n",
    "# Plotting a few exploratory graphs for rfm\n",
    "\n",
    "# Customers who order 1 time and 2 times are predominant. There fewer customers are the ones that have ordered more than 5 times.\n",
    "plt.figure(figsize=(8, 5))\n",
    "sns.distplot(df['frequency'], bins=8, kde=False, rug=True)\n",
    "plt.figure()\n",
    "\n",
    "# The ammount customers spend is frequently less than 300$.\n",
    "plt.figure(figsize=(8, 5))\n",
    "sns.distplot(df['monetary'], kde=False, rug=True)\n",
    "plt.xlim(0, 2000)\n",
    "\n",
    "# Customers who had come within the last 2 months are the majority and there are some customers that have not ordered for more than a year.\n",
    "plt.figure(figsize=(8, 5))\n",
    "sns.distplot(df['recency'], bins=8, kde=False, rug=True)\n",
    "\n",
    "# Standardizing the features\n",
    "scaler = StandardScaler()\n",
    "rfm_std = scaler.fit_transform(rfm)\n",
    "\n",
    "# Segmenting the custumer in Gold, Silver and Bronze according to their scores in frequency, recency and monetary value\n",
    "# and keeping in mind that we assinged to recency a lower weight since in our opinion is a less impotant factor to determine future customer behavior.\n",
    "df['customer_category'] = ((df['monetary_score']*2) +\n",
    "                           (df['frequency_score']*2) + (df['recency_score']*1)) / 5\n",
    "\n",
    "for i in df.index:\n",
    "\n",
    "    if (df['customer_category'][i] >= 4) and (df['customer_category'][i] <= 5):\n",
    "        df['customer_category'][i] = 'Gold'\n",
    "    elif (df['customer_category'][i] > 2) and (df['customer_category'][i] < 4):\n",
    "        df['customer_category'][i] = 'Silver'\n",
    "    elif (df['customer_category'][i] >= 1) and (df['customer_category'][i] <= 2):\n",
    "        df['customer_category'][i] = 'Bronze'\n",
    "\n",
    "def generate_legend_labels(chart_data, chart_labels):\n",
    "    total_values = sum(chart_data.values)\n",
    "\n",
    "    for key, value in chart_data.items():\n",
    "        value_percentage = value / total_values * 100\n",
    "        rounded_value_percentage = round(value_percentage, 1)\n",
    "        chart_labels.append(key + ' - ' + str(rounded_value_percentage) + '%')\n",
    "\n",
    "# Plotting the percentege of bronze, silver and gold customers\n",
    "colors = ['#8B7355', '#C0C0C0', '#EEC900']\n",
    "customer_category = df.groupby(['customer_category']).count().sort_values(\n",
    "    by=['customer_id'], ascending=False)['customer_id']\n",
    "\n",
    "customer_category_labels = []\n",
    "customer_category_sizes = customer_category.values\n",
    "generate_legend_labels(customer_category, customer_category_labels)\n",
    "\n",
    "# Generates the pie chart\n",
    "customer_category_chart, customer_category_ax = plt.subplots()\n",
    "customer_category_ax.pie(customer_category_sizes,\n",
    "                         shadow=True, startangle=90, colors=colors)\n",
    "customer_category_ax.axis('equal')\n",
    "\n",
    "plt.legend(labels=customer_category_labels, loc='upper left',\n",
    "           bbox_to_anchor=(-0.25, 1.), fontsize=9)\n",
    "customer_category_ax.set_title(\n",
    "    'Percentage of each customer segment', fontweight='bold')\n",
    "plt.show()\n",
    "\n",
    "# Clustering algorithms\n",
    "\n",
    "# K means clustering\n",
    "\n",
    "# Importing libraries for K-means algorithm and performance measurments\n",
    "\n",
    "# Using elbow method to find out optimal k value with WCSS score\n",
    "# Creating empty list to insert values\n",
    "WCSS = []\n",
    "\n",
    "# Using a for function to fill the list with the WCSS scores\n",
    "for i in range(1, 11):\n",
    "    kmeans = KMeans(n_clusters=i, init='k-means++', random_state=42)\n",
    "    kmeans.fit(rfm_std)\n",
    "    WCSS.append(kmeans.inertia_)\n",
    "\n",
    "# Plotting the Elbow method graph\n",
    "plt.figure()\n",
    "plt.plot(range(1, 11), WCSS, marker='o', label='line with marker')\n",
    "plt.title('The Elbow Method')\n",
    "plt.xlabel('Number of clusters')\n",
    "plt.ylabel('WCSS')\n",
    "plt.show()\n",
    "\n",
    "# Fitting K-Means to the dataset\n",
    "kmeans = KMeans(n_clusters=3, init='k-means++', random_state=42)\n",
    "# Use fit_predict to cluster the dataset\n",
    "km_clusters = kmeans.fit_predict(rfm_std)\n",
    "\n",
    "rfm_std_cl = pd.DataFrame(rfm_std, columns=rfm.columns, index=rfm.index)\n",
    "rfm_std_cl['cluster'] = km_clusters\n",
    "\n",
    "# Visualising the clusters (3 clusters according to the Elbow method)\n",
    "plt.scatter(rfm_std[km_clusters == 0, 0], rfm_std[km_clusters ==\n",
    "            0, 1], s=30, c='orange', label='Cluster 1')\n",
    "plt.scatter(rfm_std[km_clusters == 1, 0], rfm_std[km_clusters ==\n",
    "            1, 1], s=30, c='brown', label='Cluster 2')\n",
    "plt.scatter(rfm_std[km_clusters == 2, 0], rfm_std[km_clusters ==\n",
    "            2, 1], s=30, c='gray', label='Cluster 3')\n",
    "plt.scatter(kmeans.cluster_centers_[:, 0], kmeans.cluster_centers_[\n",
    "            :, 1], s=150, c='black', label='Centroids')\n",
    "plt.title('Clusters of customers')\n",
    "plt.legend()\n",
    "plt.show()\n",
    "\n",
    "# Calculating cluster validation metrics (silhouette score, calinski harabasz score, davies bouldin score)\n",
    "score_kemans_s = silhouette_score(rfm_std, kmeans.labels_, metric='euclidean')\n",
    "score_kemans_c = calinski_harabasz_score(rfm_std, kmeans.labels_)\n",
    "score_kemans_d = davies_bouldin_score(rfm_std, km_clusters)\n",
    "print('Silhouette Score: %.3f' % score_kemans_s)\n",
    "print('Calinski Harabasz Score: %.3f' % score_kemans_c)\n",
    "print('Davies Bouldin Score: %.3f' % score_kemans_d)\n",
    "\n",
    "# Hierarchical clustering\n",
    "\n",
    "# Plotting the dendrogram to find the optimal number of clusters\n",
    "plt.figure()\n",
    "dendrogram = sch.dendrogram(sch.linkage(rfm_std, method='ward'))\n",
    "plt.title('Dendrogram')\n",
    "plt.xlabel('Customers')\n",
    "plt.ylabel('Euclidean distances')\n",
    "plt.xticks([])\n",
    "plt.show()\n",
    "\n",
    "# Fitting Hierarchical Clustering to the dataset\n",
    "hc = AgglomerativeClustering(\n",
    "    n_clusters=4, affinity='euclidean', linkage='ward')\n",
    "hc_clusters = hc.fit_predict(rfm_std)\n",
    "\n",
    "# Visualising the clusters (4 clusters according to the Dendogram)\n",
    "plt.figure()\n",
    "plt.scatter(rfm_std[hc_clusters == 0, 0], rfm_std[hc_clusters == 0, 1], s = 30, c = 'orange', label = 'Cluster 1')\n",
    "plt.scatter(rfm_std[hc_clusters == 1, 0], rfm_std[hc_clusters == 1, 1], s = 30, c = 'brown', label = 'Cluster 2')\n",
    "plt.scatter(rfm_std[hc_clusters == 2, 0], rfm_std[hc_clusters == 2, 1], s = 30, c = 'gray', label = 'Cluster 3')\n",
    "plt.scatter(rfm_std[hc_clusters == 3, 0], rfm_std[hc_clusters == 3, 1], s = 30, c = 'yellow', label = 'Cluster 4')\n",
    "plt.title('Clusters of customers')\n",
    "plt.legend()\n",
    "plt.show()\n",
    "\n",
    "# Calculating cluster validation metrics\n",
    "score_AGclustering_s = silhouette_score(\n",
    "    rfm_std, hc.labels_, metric='euclidean')\n",
    "score_AGclustering_c = calinski_harabasz_score(rfm_std, hc.labels_,)\n",
    "score_AGclustering_d = davies_bouldin_score(rfm_std, hc_clusters)\n",
    "print('Silhouette Score: %.3f' % score_AGclustering_s)\n",
    "print('Calinski Harabasz Score: %.3f' % score_AGclustering_c)\n",
    "print('Davies Bouldin Score: %.3f' % score_AGclustering_d)\n",
    "\n",
    "# DBSCAN clustering\n",
    "\n",
    "# Since the DBSCAN code runs only with dataframes, first, we transformed the standardized array to a DataFrame\n",
    "rfm_std_df = pd.DataFrame(rfm_std, columns=rfm.columns)\n",
    "\n",
    "# Tuning the hyperparameters\n",
    "\n",
    "# Finding the 'n'\n",
    "min_sample = 2*len(rfm_std_df.columns)\n",
    "print(min_sample)  # equal to 6\n",
    "\n",
    "# Finding the epsilon\n",
    "# n = 7 because the first column will be of zeros\n",
    "nbrs = NearestNeighbors(n_neighbors=7).fit(rfm_std_df)\n",
    "# finding the k neighbors to each point\n",
    "neigh_dist, neigh_ind = nbrs.kneighbors(rfm_std_df)\n",
    "sort_neigh_dist = np.sort(neigh_dist, axis=0)  # sorting in ascending order\n",
    "\n",
    "# Plotting the graph to visualize which is the optimal epsilon value\n",
    "k_dist = sort_neigh_dist[:, 6]\n",
    "plt.plot(k_dist)\n",
    "# 0.4 chosen as it crosses the middle of the curve in the graph = optimal epsilon\n",
    "plt.axhline(y=0.4, linewidth=1, linestyle='dashed', color='k')\n",
    "plt.ylabel(\"k-NN distance\")\n",
    "plt.xlabel(\"Observations\")\n",
    "plt.show()\n",
    "\n",
    "# Fitting the model\n",
    "dbscan_model = DBSCAN(eps=0.4, min_samples=6).fit(rfm_std_df)\n",
    "labels = dbscan_model.labels_\n",
    "rfm_std_df[\"LABEL\"] = labels\n",
    "rfm_std_df.head(10)\n",
    "\n",
    "# Plotting the graph to find the clusters\n",
    "g = sns.PairGrid(rfm_std_df, hue='LABEL', palette=\"Paired\")\n",
    "g = g.map(sns.scatterplot)\n",
    "print(g)\n",
    "\n",
    "# Fitting model and predicting clusters\n",
    "dbscan_clusters = dbscan_model.fit_predict(rfm_std_df)\n",
    "\n",
    "# Calculating cluster validation metrics\n",
    "score_dbsacn_s = silhouette_score(\n",
    "    rfm_std_df, dbscan_clusters, metric='euclidean')\n",
    "score_dbsacn_c = calinski_harabasz_score(rfm_std_df, dbscan_clusters)\n",
    "score_dbsacn_d = davies_bouldin_score(rfm_std_df, dbscan_clusters)\n",
    "print('Silhouette Score: %.3f' % score_dbsacn_s)\n",
    "print('Calinski Harabasz Score: %.3f' % score_dbsacn_c)\n",
    "print('Davies Bouldin Score: %.3f' % score_dbsacn_d)\n",
    "\n",
    "# Considering the validation metrics, K-means was our best model\n",
    "\n",
    "# Interpreting the clusters in K-means\n",
    "print('Size of each cluster: ')\n",
    "print(rfm_std_cl['cluster'].value_counts())\n",
    "\n",
    "# Separating clusters in different dataframes\n",
    "cluster0 = pd.DataFrame()\n",
    "cluster1 = pd.DataFrame()\n",
    "cluster2 = pd.DataFrame()\n",
    "\n",
    "for i in rfm_std_cl.index:\n",
    "    if rfm_std_cl['cluster'][i] == 0:\n",
    "        cluster0 = cluster0.append(rfm_std_cl.iloc[i])\n",
    "    elif rfm_std_cl['cluster'][i] == 1:\n",
    "        cluster1 = cluster1.append(rfm_std_cl.iloc[i])\n",
    "    elif rfm_std_cl['cluster'][i] == 2:\n",
    "        cluster2 = cluster2.append(rfm_std_cl.iloc[i])\n",
    "\n",
    "# Plotting the clusters in relation to other variables\n",
    "\n",
    "# 'New' customers = high recency, low frequency or monetary\n",
    "plt.figure()\n",
    "plt.subplot(311)\n",
    "parallel_coordinates(cluster0, 'cluster', color=('#556270'))\n",
    "plt.ylim(0, 15)\n",
    "# 'Lost' customers = moderate frequency and monetary, low recency\n",
    "plt.subplot(312)\n",
    "parallel_coordinates(cluster1, 'cluster', color=('#4ECDC4'))\n",
    "plt.ylim(0, 15)\n",
    "# 'Loyal' customers = high monetary value, above average frequency, moderate recency\n",
    "plt.subplot(313)\n",
    "parallel_coordinates(cluster2, 'cluster', color=('#C7F464'))\n",
    "plt.ylim(0, 15)\n",
    "plt.tight_layout()\n",
    "\n",
    "\n",
    "\n",
    "\n",
    "\n",
    "\n",
    "\n",
    "\n",
    "\n",
    "\n",
    "\n",
    "\n",
    "\n",
    "\n",
    "\n",
    "\n",
    "\n",
    "\n",
    "\n",
    "\n",
    "\n",
    "\n",
    "\n",
    "\n",
    "\n",
    "\n",
    "\n",
    "\n",
    "\n",
    "\n",
    "\n",
    "\n"
   ]
  },
  {
   "attachments": {},
   "cell_type": "markdown",
   "metadata": {},
   "source": [
    "TO GET STARTED WITH OUR PROJECT AND THE EXPLORATORY ANALISIS WE FIRST IMPORT  DIFFERENT LIBRIARIES , THAT ARE FONDAMENTAL TO CREATE OUR INVAIRONMENT AND WILL HELP US , VISUALISE THE DATASET , FIT AND PERFORM THE CLUSTERING MODELS WE ARE GOING TO USE  "
   ]
  },
  {
   "cell_type": "code",
   "execution_count": 3,
   "metadata": {},
   "outputs": [],
   "source": [
    "# AI and ML - group project\n",
    "\n",
    "# Importing libraries\n",
    "from sklearn.metrics import silhouette_score\n",
    "from pandas.plotting import parallel_coordinates\n",
    "from sklearn.cluster import DBSCAN\n",
    "from sklearn.neighbors import NearestNeighbors\n",
    "from sklearn.cluster import AgglomerativeClustering\n",
    "import scipy.cluster.hierarchy as sch\n",
    "from sklearn.metrics import davies_bouldin_score\n",
    "from sklearn.metrics import calinski_harabasz_score\n",
    "from sklearn.cluster import KMeans\n",
    "from sklearn.preprocessing import StandardScaler\n",
    "import pandas as pd\n",
    "import matplotlib.pyplot as plt\n",
    "import numpy as np\n",
    "import seaborn as sns\n"
   ]
  },
  {
   "attachments": {},
   "cell_type": "markdown",
   "metadata": {},
   "source": [
    "THAN WE IMPORT THE DATASET AND READ THE DATA "
   ]
  },
  {
   "cell_type": "code",
   "execution_count": 5,
   "metadata": {},
   "outputs": [
    {
     "name": "stdout",
     "output_type": "stream",
     "text": [
      "                               order_id                       customer_id  \\\n",
      "0      53cdb2fc8bc7dce0b6741e2150273451  b0830fb4747a6c6d20dea0b8c802d7ef   \n",
      "1      86674ccaee19790309333210917b2c7d  1b338293f35549b5e480b9a3d7bbf3cd   \n",
      "2      aee682982e18eb4714ce9f97b15af5e2  8858442ea4d5dc5bb9e118e8f728095d   \n",
      "3      d543201a9b42a1402ff97e65b439a48b  971bf8f42a9f8cb3ead257854905b454   \n",
      "4      d543201a9b42a1402ff97e65b439a48b  971bf8f42a9f8cb3ead257854905b454   \n",
      "...                                 ...                               ...   \n",
      "13796  493ba21a937e956c5e0e4e26c9f1b7f9  408d74d06be5d5140bb933f248de1342   \n",
      "13797  4a7cf245701068d38d441791b735e4bd  1d3b24ba06f2e3fa4bfa74fd70d2310f   \n",
      "13798  33f8dfc5a51063c31d7b12e9d43a45fc  8f7f4871646eb2fa410cc2d50b861317   \n",
      "13799  442a41b00a8a8bda35511fdf1eb65cc5  e42e2e8642f9c09100b6667e321c2811   \n",
      "13800  73d60420cd1a179b2d8887d538efe4c2  65d9213dfa004c17dc126503e106e4a3   \n",
      "\n",
      "      order_status order_purchase_timestamp    order_approved_at  \\\n",
      "0        delivered      2018-07-24 20:41:37  2018-07-26 03:24:27   \n",
      "1        delivered      2018-08-09 11:37:35  2018-08-09 14:35:19   \n",
      "2        delivered      2018-07-09 18:46:28  2018-07-11 03:45:45   \n",
      "3        delivered      2018-08-21 10:00:25  2018-08-21 10:50:54   \n",
      "4        delivered      2018-08-21 10:00:25  2018-08-21 10:50:54   \n",
      "...            ...                      ...                  ...   \n",
      "13796    delivered      2018-07-15 09:56:32  2018-07-16 13:30:36   \n",
      "13797    delivered      2018-05-07 20:36:47  2018-05-07 20:51:50   \n",
      "13798    delivered      2018-04-28 14:32:54  2018-04-28 14:53:18   \n",
      "13799     invoiced      2018-07-11 22:27:32  2018-07-11 22:45:43   \n",
      "13800    delivered      2018-08-07 10:52:58  2018-08-07 11:05:18   \n",
      "\n",
      "      order_delivered_carrier_date order_delivered_customer_date  \\\n",
      "0              2018-07-26 14:31:00           2018-08-07 15:27:45   \n",
      "1              2018-08-10 14:34:00           2018-08-14 18:51:47   \n",
      "2              2018-07-11 15:01:00           2018-07-12 18:14:35   \n",
      "3              2018-08-22 15:21:00           2018-08-28 18:58:22   \n",
      "4              2018-08-22 15:21:00           2018-08-28 18:58:22   \n",
      "...                            ...                           ...   \n",
      "13796          2018-07-27 07:26:00           2018-08-02 18:06:41   \n",
      "13797          2018-05-08 15:04:00           2018-05-09 22:38:53   \n",
      "13798          2018-05-02 15:25:00           2018-05-03 23:51:56   \n",
      "13799          2018-07-11 22:45:43           2018-07-20 00:00:00   \n",
      "13800          2018-08-08 08:31:00           2018-08-22 17:02:23   \n",
      "\n",
      "      order_estimated_delivery_date payment_type  payment_installments  ...  \\\n",
      "0               2018-08-13 00:00:00       boleto                     1  ...   \n",
      "1               2018-08-22 00:00:00  credit_card                     5  ...   \n",
      "2               2018-07-18 00:00:00       boleto                     1  ...   \n",
      "3               2018-09-10 00:00:00  credit_card                     2  ...   \n",
      "4               2018-09-10 00:00:00  credit_card                     2  ...   \n",
      "...                             ...          ...                   ...  ...   \n",
      "13796           2018-07-26 00:00:00       boleto                     1  ...   \n",
      "13797           2018-05-17 00:00:00  credit_card                     1  ...   \n",
      "13798           2018-05-14 00:00:00  credit_card                     1  ...   \n",
      "13799           2018-07-20 00:00:00  credit_card                     1  ...   \n",
      "13800           2018-09-04 00:00:00  credit_card                    10  ...   \n",
      "\n",
      "                              seller_id  shipping_limit_date   price  \\\n",
      "0      289cdb325fb7e7f891c38608bf9e0962  2018-07-30 03:24:27  118.70   \n",
      "1      289cdb325fb7e7f891c38608bf9e0962  2018-08-13 14:31:29  116.90   \n",
      "2      289cdb325fb7e7f891c38608bf9e0962  2018-07-13 03:45:45  118.70   \n",
      "3      289cdb325fb7e7f891c38608bf9e0962  2018-08-23 10:50:54  116.90   \n",
      "4      289cdb325fb7e7f891c38608bf9e0962  2018-08-23 10:50:54  116.90   \n",
      "...                                 ...                  ...     ...   \n",
      "13796  7c5b05cbdb5542049f38d90d7815b97d  2018-07-20 13:30:36   19.99   \n",
      "13797  7c5b05cbdb5542049f38d90d7815b97d  2018-05-11 20:51:50   18.99   \n",
      "13798  7c5b05cbdb5542049f38d90d7815b97d  2018-05-04 14:53:18   18.99   \n",
      "13799  7c5b05cbdb5542049f38d90d7815b97d  2018-07-16 22:45:43   44.99   \n",
      "13800  9b1585752613ec342d03bbab9997ec48  2018-08-13 11:05:18  749.00   \n",
      "\n",
      "      freight_value     seller_city seller_state product_category_name  \\\n",
      "0             22.76  belo horizonte           SP            perfumaria   \n",
      "1             18.92  belo horizonte           SP            perfumaria   \n",
      "2              9.34  belo horizonte           SP            perfumaria   \n",
      "3             22.75  belo horizonte           SP            perfumaria   \n",
      "4             22.75  belo horizonte           SP            perfumaria   \n",
      "...             ...             ...          ...                   ...   \n",
      "13796          7.40       sao paulo           SP     livros_importados   \n",
      "13797          7.39       sao paulo           SP     livros_importados   \n",
      "13798          7.39       sao paulo           SP     livros_importados   \n",
      "13799          7.58       sao paulo           SP     livros_importados   \n",
      "13800         55.96  rio de janeiro           RJ     livros_importados   \n",
      "\n",
      "      product_name_lenght  product_description_lenght  \\\n",
      "0                      29                         178   \n",
      "1                      29                         178   \n",
      "2                      29                         178   \n",
      "3                      29                         178   \n",
      "4                      29                         178   \n",
      "...                   ...                         ...   \n",
      "13796                  53                          80   \n",
      "13797                  53                          80   \n",
      "13798                  53                          80   \n",
      "13799                  53                         568   \n",
      "13800                  57                        3694   \n",
      "\n",
      "       product_category_name_english  \n",
      "0                          perfumery  \n",
      "1                          perfumery  \n",
      "2                          perfumery  \n",
      "3                          perfumery  \n",
      "4                          perfumery  \n",
      "...                              ...  \n",
      "13796                 books_imported  \n",
      "13797                 books_imported  \n",
      "13798                 books_imported  \n",
      "13799                 books_imported  \n",
      "13800                 books_imported  \n",
      "\n",
      "[13801 rows x 26 columns]\n"
     ]
    }
   ],
   "source": [
    "\n",
    "# Importing the dataset\n",
    "# IMPORTING DATASET\n",
    "df = pd.read_csv(r'C:/Users/eleon/Desktop/ai.project/customer_segmentation.csv')\n",
    "print(df)"
   ]
  },
  {
   "attachments": {},
   "cell_type": "markdown",
   "metadata": {},
   "source": [
    "TO TAKE AN OVERVIEW ,OF THE DATA WE USE THE FOLLONG FUNCTIONS:\n",
    "df.head() ,df.info() ,df.describe() ,df.shape\n",
    "EACH ONE TELL US SOMETHING .\n",
    " -df.head() allow us take a look at what the data looks like , and we can suppose that this data comes from an e-coomerce shop since we have order id status time ecc...\n",
    " -df.info() method is useful to get a quick description of the data, in particular the\n",
    "total number of rows, each attribute’s type, and the number of nonnull values .From this output we can notice that date and time are considered object , later we will have to fix thees because is important that the computer read the data set in a correct way, and also there are no missing  features.\n",
    " -df.describe() that gives us some basic statistical details\n",
    " -df.shape that give us  the shape of our the DataFrame.So from the out put we know we have 26 colums and 13801 rows"
   ]
  },
  {
   "cell_type": "code",
   "execution_count": 7,
   "metadata": {},
   "outputs": [
    {
     "data": {
      "text/html": [
       "<div>\n",
       "<style scoped>\n",
       "    .dataframe tbody tr th:only-of-type {\n",
       "        vertical-align: middle;\n",
       "    }\n",
       "\n",
       "    .dataframe tbody tr th {\n",
       "        vertical-align: top;\n",
       "    }\n",
       "\n",
       "    .dataframe thead th {\n",
       "        text-align: right;\n",
       "    }\n",
       "</style>\n",
       "<table border=\"1\" class=\"dataframe\">\n",
       "  <thead>\n",
       "    <tr style=\"text-align: right;\">\n",
       "      <th></th>\n",
       "      <th>order_id</th>\n",
       "      <th>customer_id</th>\n",
       "      <th>order_status</th>\n",
       "      <th>order_purchase_timestamp</th>\n",
       "      <th>order_approved_at</th>\n",
       "      <th>order_delivered_carrier_date</th>\n",
       "      <th>order_delivered_customer_date</th>\n",
       "      <th>order_estimated_delivery_date</th>\n",
       "      <th>payment_type</th>\n",
       "      <th>payment_installments</th>\n",
       "      <th>...</th>\n",
       "      <th>seller_id</th>\n",
       "      <th>shipping_limit_date</th>\n",
       "      <th>price</th>\n",
       "      <th>freight_value</th>\n",
       "      <th>seller_city</th>\n",
       "      <th>seller_state</th>\n",
       "      <th>product_category_name</th>\n",
       "      <th>product_name_lenght</th>\n",
       "      <th>product_description_lenght</th>\n",
       "      <th>product_category_name_english</th>\n",
       "    </tr>\n",
       "  </thead>\n",
       "  <tbody>\n",
       "    <tr>\n",
       "      <th>0</th>\n",
       "      <td>53cdb2fc8bc7dce0b6741e2150273451</td>\n",
       "      <td>b0830fb4747a6c6d20dea0b8c802d7ef</td>\n",
       "      <td>delivered</td>\n",
       "      <td>2018-07-24 20:41:37</td>\n",
       "      <td>2018-07-26 03:24:27</td>\n",
       "      <td>2018-07-26 14:31:00</td>\n",
       "      <td>2018-08-07 15:27:45</td>\n",
       "      <td>2018-08-13 00:00:00</td>\n",
       "      <td>boleto</td>\n",
       "      <td>1</td>\n",
       "      <td>...</td>\n",
       "      <td>289cdb325fb7e7f891c38608bf9e0962</td>\n",
       "      <td>2018-07-30 03:24:27</td>\n",
       "      <td>118.7</td>\n",
       "      <td>22.76</td>\n",
       "      <td>belo horizonte</td>\n",
       "      <td>SP</td>\n",
       "      <td>perfumaria</td>\n",
       "      <td>29</td>\n",
       "      <td>178</td>\n",
       "      <td>perfumery</td>\n",
       "    </tr>\n",
       "    <tr>\n",
       "      <th>1</th>\n",
       "      <td>86674ccaee19790309333210917b2c7d</td>\n",
       "      <td>1b338293f35549b5e480b9a3d7bbf3cd</td>\n",
       "      <td>delivered</td>\n",
       "      <td>2018-08-09 11:37:35</td>\n",
       "      <td>2018-08-09 14:35:19</td>\n",
       "      <td>2018-08-10 14:34:00</td>\n",
       "      <td>2018-08-14 18:51:47</td>\n",
       "      <td>2018-08-22 00:00:00</td>\n",
       "      <td>credit_card</td>\n",
       "      <td>5</td>\n",
       "      <td>...</td>\n",
       "      <td>289cdb325fb7e7f891c38608bf9e0962</td>\n",
       "      <td>2018-08-13 14:31:29</td>\n",
       "      <td>116.9</td>\n",
       "      <td>18.92</td>\n",
       "      <td>belo horizonte</td>\n",
       "      <td>SP</td>\n",
       "      <td>perfumaria</td>\n",
       "      <td>29</td>\n",
       "      <td>178</td>\n",
       "      <td>perfumery</td>\n",
       "    </tr>\n",
       "    <tr>\n",
       "      <th>2</th>\n",
       "      <td>aee682982e18eb4714ce9f97b15af5e2</td>\n",
       "      <td>8858442ea4d5dc5bb9e118e8f728095d</td>\n",
       "      <td>delivered</td>\n",
       "      <td>2018-07-09 18:46:28</td>\n",
       "      <td>2018-07-11 03:45:45</td>\n",
       "      <td>2018-07-11 15:01:00</td>\n",
       "      <td>2018-07-12 18:14:35</td>\n",
       "      <td>2018-07-18 00:00:00</td>\n",
       "      <td>boleto</td>\n",
       "      <td>1</td>\n",
       "      <td>...</td>\n",
       "      <td>289cdb325fb7e7f891c38608bf9e0962</td>\n",
       "      <td>2018-07-13 03:45:45</td>\n",
       "      <td>118.7</td>\n",
       "      <td>9.34</td>\n",
       "      <td>belo horizonte</td>\n",
       "      <td>SP</td>\n",
       "      <td>perfumaria</td>\n",
       "      <td>29</td>\n",
       "      <td>178</td>\n",
       "      <td>perfumery</td>\n",
       "    </tr>\n",
       "    <tr>\n",
       "      <th>3</th>\n",
       "      <td>d543201a9b42a1402ff97e65b439a48b</td>\n",
       "      <td>971bf8f42a9f8cb3ead257854905b454</td>\n",
       "      <td>delivered</td>\n",
       "      <td>2018-08-21 10:00:25</td>\n",
       "      <td>2018-08-21 10:50:54</td>\n",
       "      <td>2018-08-22 15:21:00</td>\n",
       "      <td>2018-08-28 18:58:22</td>\n",
       "      <td>2018-09-10 00:00:00</td>\n",
       "      <td>credit_card</td>\n",
       "      <td>2</td>\n",
       "      <td>...</td>\n",
       "      <td>289cdb325fb7e7f891c38608bf9e0962</td>\n",
       "      <td>2018-08-23 10:50:54</td>\n",
       "      <td>116.9</td>\n",
       "      <td>22.75</td>\n",
       "      <td>belo horizonte</td>\n",
       "      <td>SP</td>\n",
       "      <td>perfumaria</td>\n",
       "      <td>29</td>\n",
       "      <td>178</td>\n",
       "      <td>perfumery</td>\n",
       "    </tr>\n",
       "    <tr>\n",
       "      <th>4</th>\n",
       "      <td>d543201a9b42a1402ff97e65b439a48b</td>\n",
       "      <td>971bf8f42a9f8cb3ead257854905b454</td>\n",
       "      <td>delivered</td>\n",
       "      <td>2018-08-21 10:00:25</td>\n",
       "      <td>2018-08-21 10:50:54</td>\n",
       "      <td>2018-08-22 15:21:00</td>\n",
       "      <td>2018-08-28 18:58:22</td>\n",
       "      <td>2018-09-10 00:00:00</td>\n",
       "      <td>credit_card</td>\n",
       "      <td>2</td>\n",
       "      <td>...</td>\n",
       "      <td>289cdb325fb7e7f891c38608bf9e0962</td>\n",
       "      <td>2018-08-23 10:50:54</td>\n",
       "      <td>116.9</td>\n",
       "      <td>22.75</td>\n",
       "      <td>belo horizonte</td>\n",
       "      <td>SP</td>\n",
       "      <td>perfumaria</td>\n",
       "      <td>29</td>\n",
       "      <td>178</td>\n",
       "      <td>perfumery</td>\n",
       "    </tr>\n",
       "  </tbody>\n",
       "</table>\n",
       "<p>5 rows × 26 columns</p>\n",
       "</div>"
      ],
      "text/plain": [
       "                           order_id                       customer_id  \\\n",
       "0  53cdb2fc8bc7dce0b6741e2150273451  b0830fb4747a6c6d20dea0b8c802d7ef   \n",
       "1  86674ccaee19790309333210917b2c7d  1b338293f35549b5e480b9a3d7bbf3cd   \n",
       "2  aee682982e18eb4714ce9f97b15af5e2  8858442ea4d5dc5bb9e118e8f728095d   \n",
       "3  d543201a9b42a1402ff97e65b439a48b  971bf8f42a9f8cb3ead257854905b454   \n",
       "4  d543201a9b42a1402ff97e65b439a48b  971bf8f42a9f8cb3ead257854905b454   \n",
       "\n",
       "  order_status order_purchase_timestamp    order_approved_at  \\\n",
       "0    delivered      2018-07-24 20:41:37  2018-07-26 03:24:27   \n",
       "1    delivered      2018-08-09 11:37:35  2018-08-09 14:35:19   \n",
       "2    delivered      2018-07-09 18:46:28  2018-07-11 03:45:45   \n",
       "3    delivered      2018-08-21 10:00:25  2018-08-21 10:50:54   \n",
       "4    delivered      2018-08-21 10:00:25  2018-08-21 10:50:54   \n",
       "\n",
       "  order_delivered_carrier_date order_delivered_customer_date  \\\n",
       "0          2018-07-26 14:31:00           2018-08-07 15:27:45   \n",
       "1          2018-08-10 14:34:00           2018-08-14 18:51:47   \n",
       "2          2018-07-11 15:01:00           2018-07-12 18:14:35   \n",
       "3          2018-08-22 15:21:00           2018-08-28 18:58:22   \n",
       "4          2018-08-22 15:21:00           2018-08-28 18:58:22   \n",
       "\n",
       "  order_estimated_delivery_date payment_type  payment_installments  ...  \\\n",
       "0           2018-08-13 00:00:00       boleto                     1  ...   \n",
       "1           2018-08-22 00:00:00  credit_card                     5  ...   \n",
       "2           2018-07-18 00:00:00       boleto                     1  ...   \n",
       "3           2018-09-10 00:00:00  credit_card                     2  ...   \n",
       "4           2018-09-10 00:00:00  credit_card                     2  ...   \n",
       "\n",
       "                          seller_id  shipping_limit_date  price freight_value  \\\n",
       "0  289cdb325fb7e7f891c38608bf9e0962  2018-07-30 03:24:27  118.7         22.76   \n",
       "1  289cdb325fb7e7f891c38608bf9e0962  2018-08-13 14:31:29  116.9         18.92   \n",
       "2  289cdb325fb7e7f891c38608bf9e0962  2018-07-13 03:45:45  118.7          9.34   \n",
       "3  289cdb325fb7e7f891c38608bf9e0962  2018-08-23 10:50:54  116.9         22.75   \n",
       "4  289cdb325fb7e7f891c38608bf9e0962  2018-08-23 10:50:54  116.9         22.75   \n",
       "\n",
       "      seller_city seller_state product_category_name product_name_lenght  \\\n",
       "0  belo horizonte           SP            perfumaria                  29   \n",
       "1  belo horizonte           SP            perfumaria                  29   \n",
       "2  belo horizonte           SP            perfumaria                  29   \n",
       "3  belo horizonte           SP            perfumaria                  29   \n",
       "4  belo horizonte           SP            perfumaria                  29   \n",
       "\n",
       "   product_description_lenght  product_category_name_english  \n",
       "0                         178                      perfumery  \n",
       "1                         178                      perfumery  \n",
       "2                         178                      perfumery  \n",
       "3                         178                      perfumery  \n",
       "4                         178                      perfumery  \n",
       "\n",
       "[5 rows x 26 columns]"
      ]
     },
     "execution_count": 7,
     "metadata": {},
     "output_type": "execute_result"
    }
   ],
   "source": [
    "# Taking a look at the data structure\n",
    "df.head()\n"
   ]
  },
  {
   "cell_type": "code",
   "execution_count": 8,
   "metadata": {},
   "outputs": [
    {
     "name": "stdout",
     "output_type": "stream",
     "text": [
      "<class 'pandas.core.frame.DataFrame'>\n",
      "RangeIndex: 13801 entries, 0 to 13800\n",
      "Data columns (total 26 columns):\n",
      " #   Column                         Non-Null Count  Dtype  \n",
      "---  ------                         --------------  -----  \n",
      " 0   order_id                       13801 non-null  object \n",
      " 1   customer_id                    13801 non-null  object \n",
      " 2   order_status                   13801 non-null  object \n",
      " 3   order_purchase_timestamp       13801 non-null  object \n",
      " 4   order_approved_at              13801 non-null  object \n",
      " 5   order_delivered_carrier_date   13801 non-null  object \n",
      " 6   order_delivered_customer_date  13801 non-null  object \n",
      " 7   order_estimated_delivery_date  13801 non-null  object \n",
      " 8   payment_type                   13801 non-null  object \n",
      " 9   payment_installments           13801 non-null  int64  \n",
      " 10  payment_value                  13801 non-null  float64\n",
      " 11  customer_unique_id             13801 non-null  object \n",
      " 12  customer_city                  13801 non-null  object \n",
      " 13  customer_state                 13801 non-null  object \n",
      " 14  order_item_id                  13801 non-null  int64  \n",
      " 15  product_id                     13801 non-null  object \n",
      " 16  seller_id                      13801 non-null  object \n",
      " 17  shipping_limit_date            13801 non-null  object \n",
      " 18  price                          13801 non-null  float64\n",
      " 19  freight_value                  13801 non-null  float64\n",
      " 20  seller_city                    13801 non-null  object \n",
      " 21  seller_state                   13801 non-null  object \n",
      " 22  product_category_name          13801 non-null  object \n",
      " 23  product_name_lenght            13801 non-null  int64  \n",
      " 24  product_description_lenght     13801 non-null  int64  \n",
      " 25  product_category_name_english  13801 non-null  object \n",
      "dtypes: float64(3), int64(4), object(19)\n",
      "memory usage: 2.7+ MB\n"
     ]
    }
   ],
   "source": [
    "df.info()"
   ]
  },
  {
   "cell_type": "code",
   "execution_count": 9,
   "metadata": {},
   "outputs": [
    {
     "data": {
      "text/html": [
       "<div>\n",
       "<style scoped>\n",
       "    .dataframe tbody tr th:only-of-type {\n",
       "        vertical-align: middle;\n",
       "    }\n",
       "\n",
       "    .dataframe tbody tr th {\n",
       "        vertical-align: top;\n",
       "    }\n",
       "\n",
       "    .dataframe thead th {\n",
       "        text-align: right;\n",
       "    }\n",
       "</style>\n",
       "<table border=\"1\" class=\"dataframe\">\n",
       "  <thead>\n",
       "    <tr style=\"text-align: right;\">\n",
       "      <th></th>\n",
       "      <th>payment_installments</th>\n",
       "      <th>payment_value</th>\n",
       "      <th>order_item_id</th>\n",
       "      <th>price</th>\n",
       "      <th>freight_value</th>\n",
       "      <th>product_name_lenght</th>\n",
       "      <th>product_description_lenght</th>\n",
       "    </tr>\n",
       "  </thead>\n",
       "  <tbody>\n",
       "    <tr>\n",
       "      <th>count</th>\n",
       "      <td>13801.000000</td>\n",
       "      <td>13801.000000</td>\n",
       "      <td>13801.000000</td>\n",
       "      <td>13801.000000</td>\n",
       "      <td>13801.000000</td>\n",
       "      <td>13801.000000</td>\n",
       "      <td>13801.000000</td>\n",
       "    </tr>\n",
       "    <tr>\n",
       "      <th>mean</th>\n",
       "      <td>3.014637</td>\n",
       "      <td>194.349691</td>\n",
       "      <td>1.230491</td>\n",
       "      <td>130.947103</td>\n",
       "      <td>21.938168</td>\n",
       "      <td>49.300703</td>\n",
       "      <td>814.330411</td>\n",
       "    </tr>\n",
       "    <tr>\n",
       "      <th>std</th>\n",
       "      <td>2.801721</td>\n",
       "      <td>294.854258</td>\n",
       "      <td>0.737495</td>\n",
       "      <td>210.712421</td>\n",
       "      <td>18.567013</td>\n",
       "      <td>9.759529</td>\n",
       "      <td>648.790194</td>\n",
       "    </tr>\n",
       "    <tr>\n",
       "      <th>min</th>\n",
       "      <td>1.000000</td>\n",
       "      <td>0.050000</td>\n",
       "      <td>1.000000</td>\n",
       "      <td>0.850000</td>\n",
       "      <td>0.000000</td>\n",
       "      <td>8.000000</td>\n",
       "      <td>4.000000</td>\n",
       "    </tr>\n",
       "    <tr>\n",
       "      <th>25%</th>\n",
       "      <td>1.000000</td>\n",
       "      <td>66.750000</td>\n",
       "      <td>1.000000</td>\n",
       "      <td>40.000000</td>\n",
       "      <td>12.870000</td>\n",
       "      <td>43.000000</td>\n",
       "      <td>366.000000</td>\n",
       "    </tr>\n",
       "    <tr>\n",
       "      <th>50%</th>\n",
       "      <td>2.000000</td>\n",
       "      <td>120.290000</td>\n",
       "      <td>1.000000</td>\n",
       "      <td>79.000000</td>\n",
       "      <td>18.230000</td>\n",
       "      <td>52.000000</td>\n",
       "      <td>631.000000</td>\n",
       "    </tr>\n",
       "    <tr>\n",
       "      <th>75%</th>\n",
       "      <td>4.000000</td>\n",
       "      <td>206.780000</td>\n",
       "      <td>1.000000</td>\n",
       "      <td>139.000000</td>\n",
       "      <td>23.310000</td>\n",
       "      <td>57.000000</td>\n",
       "      <td>1030.000000</td>\n",
       "    </tr>\n",
       "    <tr>\n",
       "      <th>max</th>\n",
       "      <td>20.000000</td>\n",
       "      <td>7274.880000</td>\n",
       "      <td>13.000000</td>\n",
       "      <td>4590.000000</td>\n",
       "      <td>375.280000</td>\n",
       "      <td>69.000000</td>\n",
       "      <td>3985.000000</td>\n",
       "    </tr>\n",
       "  </tbody>\n",
       "</table>\n",
       "</div>"
      ],
      "text/plain": [
       "       payment_installments  payment_value  order_item_id         price  \\\n",
       "count          13801.000000   13801.000000   13801.000000  13801.000000   \n",
       "mean               3.014637     194.349691       1.230491    130.947103   \n",
       "std                2.801721     294.854258       0.737495    210.712421   \n",
       "min                1.000000       0.050000       1.000000      0.850000   \n",
       "25%                1.000000      66.750000       1.000000     40.000000   \n",
       "50%                2.000000     120.290000       1.000000     79.000000   \n",
       "75%                4.000000     206.780000       1.000000    139.000000   \n",
       "max               20.000000    7274.880000      13.000000   4590.000000   \n",
       "\n",
       "       freight_value  product_name_lenght  product_description_lenght  \n",
       "count   13801.000000         13801.000000                13801.000000  \n",
       "mean       21.938168            49.300703                  814.330411  \n",
       "std        18.567013             9.759529                  648.790194  \n",
       "min         0.000000             8.000000                    4.000000  \n",
       "25%        12.870000            43.000000                  366.000000  \n",
       "50%        18.230000            52.000000                  631.000000  \n",
       "75%        23.310000            57.000000                 1030.000000  \n",
       "max       375.280000            69.000000                 3985.000000  "
      ]
     },
     "execution_count": 9,
     "metadata": {},
     "output_type": "execute_result"
    }
   ],
   "source": [
    "df.describe()"
   ]
  },
  {
   "cell_type": "code",
   "execution_count": 12,
   "metadata": {},
   "outputs": [
    {
     "data": {
      "text/plain": [
       "(13801, 26)"
      ]
     },
     "execution_count": 12,
     "metadata": {},
     "output_type": "execute_result"
    }
   ],
   "source": [
    "df.shape"
   ]
  },
  {
   "attachments": {},
   "cell_type": "markdown",
   "metadata": {},
   "source": [
    "As peviusly stated we are going to fix the way in which our data set is readed , in our opinions th....Add something"
   ]
  },
  {
   "cell_type": "code",
   "execution_count": 13,
   "metadata": {},
   "outputs": [],
   "source": [
    "\n",
    "# Fixing the date\n",
    "datelist = ['order_purchase_timestamp', 'order_approved_at', 'order_approved_at', 'order_delivered_carrier_date',\n",
    "            'order_delivered_customer_date', 'order_estimated_delivery_date', 'shipping_limit_date']\n",
    "\n",
    "# Converting the list of date variables to a pandas datetime object\n",
    "for c in datelist:\n",
    "    df[c] = pd.to_datetime(df[c])\n",
    "\n",
    "# Separating the date and time in the order column they might be interesting variables for the analysis\n",
    "df['order_date'] = [d.date() for d in df['order_purchase_timestamp']]\n",
    "df['order_time'] = [d.time() for d in df['order_purchase_timestamp']]"
   ]
  },
  {
   "attachments": {},
   "cell_type": "markdown",
   "metadata": {},
   "source": [
    "Then we start to perform some operetion to Discover and Visualize the Data to Gain Insights."
   ]
  },
  {
   "cell_type": "code",
   "execution_count": 14,
   "metadata": {},
   "outputs": [],
   "source": [
    "# Data preparation\n",
    "\n",
    "# Removing duplicates and resetting the index of the dataframe\n",
    "df.duplicated().sum()\n",
    "df.drop_duplicates(keep='first', inplace=True)\n",
    "df.reset_index(drop=True, inplace=True)\n"
   ]
  },
  {
   "attachments": {},
   "cell_type": "markdown",
   "metadata": {},
   "source": [
    "We supposeed there are no missing values looking whit df.info and here we get the confermation "
   ]
  },
  {
   "cell_type": "code",
   "execution_count": 15,
   "metadata": {},
   "outputs": [
    {
     "data": {
      "text/plain": [
       "order_id                         0\n",
       "customer_id                      0\n",
       "order_status                     0\n",
       "order_purchase_timestamp         0\n",
       "order_approved_at                0\n",
       "order_delivered_carrier_date     0\n",
       "order_delivered_customer_date    0\n",
       "order_estimated_delivery_date    0\n",
       "payment_type                     0\n",
       "payment_installments             0\n",
       "payment_value                    0\n",
       "customer_unique_id               0\n",
       "customer_city                    0\n",
       "customer_state                   0\n",
       "order_item_id                    0\n",
       "product_id                       0\n",
       "seller_id                        0\n",
       "shipping_limit_date              0\n",
       "price                            0\n",
       "freight_value                    0\n",
       "seller_city                      0\n",
       "seller_state                     0\n",
       "product_category_name            0\n",
       "product_name_lenght              0\n",
       "product_description_lenght       0\n",
       "product_category_name_english    0\n",
       "order_date                       0\n",
       "order_time                       0\n",
       "dtype: int64"
      ]
     },
     "execution_count": 15,
     "metadata": {},
     "output_type": "execute_result"
    }
   ],
   "source": [
    "# Checking for missing values\n",
    "df.isnull().sum()"
   ]
  },
  {
   "attachments": {},
   "cell_type": "markdown",
   "metadata": {},
   "source": [
    "Since clustering is sensitive to outliers and in our opinion for costumer segmantation is important to know more about payement value and payemet instalment we check for outliers that can confuse our model and than we  procede to remove them if they are presnt. \n",
    "From the scatterplot we can instantly and esely see that there are some outliers (for example the point above 7000 in payemt value ) but in order not to rely only on the field of view, we calculate the mean and std in order to see with more precision how far these outliers really are."
   ]
  },
  {
   "cell_type": "code",
   "execution_count": 16,
   "metadata": {},
   "outputs": [
    {
     "data": {
      "text/plain": [
       "<AxesSubplot:xlabel='index', ylabel='payment_value'>"
      ]
     },
     "execution_count": 16,
     "metadata": {},
     "output_type": "execute_result"
    },
    {
     "data": {
      "text/plain": [
       "<Figure size 432x288 with 0 Axes>"
      ]
     },
     "metadata": {},
     "output_type": "display_data"
    },
    {
     "data": {
      "image/png": "[encoded data removed]",
      "text/plain": [
       "<Figure size 432x288 with 1 Axes>"
      ]
     },
     "metadata": {
      "needs_background": "light"
     },
     "output_type": "display_data"
    },
    {
     "data": {
      "text/plain": [
       "<Figure size 432x288 with 0 Axes>"
      ]
     },
     "metadata": {},
     "output_type": "display_data"
    },
    {
     "data": {
      "image/png": "[encoded data removed]",
      "text/plain": [
       "<Figure size 432x288 with 1 Axes>"
      ]
     },
     "metadata": {
      "needs_background": "light"
     },
     "output_type": "display_data"
    }
   ],
   "source": [
    "# Checking for outliers\n",
    "plt.figure()\n",
    "df.reset_index().plot(kind='scatter', x='index',\n",
    "                      y='payment_installments', c='brown')\n",
    "plt.figure()\n",
    "df.reset_index().plot(kind='scatter', x='index', y='payment_value', c='gray')"
   ]
  },
  {
   "cell_type": "code",
   "execution_count": 17,
   "metadata": {},
   "outputs": [],
   "source": [
    "\n",
    "# Checking the mean and standar deviation of the payment value (to check how far is the outlier observed in the scatterplot)\n",
    "mean_pv = df[\"payment_value\"].mean()  # mean of 195.2\n",
    "std_pv = df[\"payment_value\"].std()  # std of 295.5"
   ]
  },
  {
   "attachments": {},
   "cell_type": "markdown",
   "metadata": {},
   "source": [
    "Using the value founded from above we now print out the number of outliers that turns out to be 5 , we can easely remove them using drop."
   ]
  },
  {
   "cell_type": "code",
   "execution_count": 18,
   "metadata": {},
   "outputs": [
    {
     "name": "stdout",
     "output_type": "stream",
     "text": [
      "\n",
      "Outlier dataframe:\n",
      "                                order_id                       customer_id  \\\n",
      "11673  736e1922ae60d0d6a89247b851902527  ec5b2ba62e574342386871631fafd3fc   \n",
      "11674  736e1922ae60d0d6a89247b851902527  ec5b2ba62e574342386871631fafd3fc   \n",
      "11675  736e1922ae60d0d6a89247b851902527  ec5b2ba62e574342386871631fafd3fc   \n",
      "11676  736e1922ae60d0d6a89247b851902527  ec5b2ba62e574342386871631fafd3fc   \n",
      "13638  8dbc85d1447242f3b127dda390d56e19  3d979689f636322c62418b6346b1c6d2   \n",
      "\n",
      "      order_status order_purchase_timestamp   order_approved_at  \\\n",
      "11673    delivered      2018-07-15 14:49:44 2018-07-17 04:31:36   \n",
      "11674    delivered      2018-07-15 14:49:44 2018-07-17 04:31:36   \n",
      "11675    delivered      2018-07-15 14:49:44 2018-07-17 04:31:36   \n",
      "11676    delivered      2018-07-15 14:49:44 2018-07-17 04:31:36   \n",
      "13638    delivered      2018-06-22 12:23:19 2018-06-22 12:36:36   \n",
      "\n",
      "      order_delivered_carrier_date order_delivered_customer_date  \\\n",
      "11673          2018-07-20 13:09:00           2018-07-26 22:03:06   \n",
      "11674          2018-07-20 13:09:00           2018-07-26 22:03:06   \n",
      "11675          2018-07-20 13:09:00           2018-07-26 22:03:06   \n",
      "11676          2018-07-20 13:09:00           2018-07-26 22:03:06   \n",
      "13638          2018-06-22 13:00:00           2018-07-06 01:08:30   \n",
      "\n",
      "      order_estimated_delivery_date payment_type  payment_installments  ...  \\\n",
      "11673                    2018-08-02       boleto                     1  ...   \n",
      "11674                    2018-08-02       boleto                     1  ...   \n",
      "11675                    2018-08-02       boleto                     1  ...   \n",
      "11676                    2018-08-02       boleto                     1  ...   \n",
      "13638                    2018-07-17  credit_card                     8  ...   \n",
      "\n",
      "        price freight_value seller_city seller_state  product_category_name  \\\n",
      "11673  1790.0         28.72   sao paulo           SP         telefonia_fixa   \n",
      "11674  1790.0         28.72   sao paulo           SP         telefonia_fixa   \n",
      "11675  1790.0         28.72   sao paulo           SP         telefonia_fixa   \n",
      "11676  1790.0         28.72   sao paulo           SP         telefonia_fixa   \n",
      "13638  4590.0         91.78    guanambi           BA                    pcs   \n",
      "\n",
      "      product_name_lenght product_description_lenght  \\\n",
      "11673                  34                       1016   \n",
      "11674                  34                       1016   \n",
      "11675                  34                       1016   \n",
      "11676                  34                       1016   \n",
      "13638                  55                       1710   \n",
      "\n",
      "      product_category_name_english  order_date  order_time  \n",
      "11673               fixed_telephony  2018-07-15    14:49:44  \n",
      "11674               fixed_telephony  2018-07-15    14:49:44  \n",
      "11675               fixed_telephony  2018-07-15    14:49:44  \n",
      "11676               fixed_telephony  2018-07-15    14:49:44  \n",
      "13638                     computers  2018-06-22    12:23:19  \n",
      "\n",
      "[5 rows x 28 columns]\n"
     ]
    }
   ],
   "source": [
    "# Seeing how many outliers there are, the output prints 5 payments higher than 4000\n",
    "# Value of 4000 decided by looking at the scatterplot\n",
    "outlier1 = df[df['payment_value'] > 4000]\n",
    "print('\\nOutlier dataframe:\\n', outlier1)"
   ]
  },
  {
   "cell_type": "code",
   "execution_count": 19,
   "metadata": {},
   "outputs": [],
   "source": [
    "# Deleting 5 outliers out of 13718 other orders and resetting the index again\n",
    "df = df.drop(df[df.payment_value > 4000].index)\n",
    "df = df.reset_index(drop=True)"
   ]
  },
  {
   "attachments": {},
   "cell_type": "markdown",
   "metadata": {},
   "source": [
    "To continue whit our visualization we plot the scatterplots of variables that as alredy mentiond are very significant to us , after printing the output we can compere these figures whit the previus one that contained outliers and see the changes !!"
   ]
  },
  {
   "cell_type": "code",
   "execution_count": 20,
   "metadata": {},
   "outputs": [
    {
     "data": {
      "text/plain": [
       "<Figure size 432x288 with 0 Axes>"
      ]
     },
     "execution_count": 20,
     "metadata": {},
     "output_type": "execute_result"
    },
    {
     "data": {
      "text/plain": [
       "<Figure size 432x288 with 0 Axes>"
      ]
     },
     "metadata": {},
     "output_type": "display_data"
    },
    {
     "data": {
      "image/png": "[encoded data removed]",
      "text/plain": [
       "<Figure size 432x288 with 1 Axes>"
      ]
     },
     "metadata": {
      "needs_background": "light"
     },
     "output_type": "display_data"
    },
    {
     "data": {
      "text/plain": [
       "<Figure size 432x288 with 0 Axes>"
      ]
     },
     "metadata": {},
     "output_type": "display_data"
    },
    {
     "data": {
      "image/png": "[encoded data removed]",
      "text/plain": [
       "<Figure size 432x288 with 1 Axes>"
      ]
     },
     "metadata": {
      "needs_background": "light"
     },
     "output_type": "display_data"
    },
    {
     "data": {
      "text/plain": [
       "<Figure size 432x288 with 0 Axes>"
      ]
     },
     "metadata": {},
     "output_type": "display_data"
    },
    {
     "data": {
      "image/png": "[encoded data removed]",
      "text/plain": [
       "<Figure size 432x288 with 1 Axes>"
      ]
     },
     "metadata": {
      "needs_background": "light"
     },
     "output_type": "display_data"
    },
    {
     "data": {
      "text/plain": [
       "<Figure size 432x288 with 0 Axes>"
      ]
     },
     "metadata": {},
     "output_type": "display_data"
    }
   ],
   "source": [
    "# Continuing to look at other variables by plotting scatterplots\n",
    "plt.figure()\n",
    "df.reset_index().plot(kind='scatter', x='index', y='payment_value',\n",
    "                      c='gray')  # re-plotting after removing outliers\n",
    "plt.figure()\n",
    "df.reset_index().plot(kind='scatter', x='index', y='price', c='orange')\n",
    "plt.figure()\n",
    "df.reset_index().plot(kind='scatter', x='index', y='freight_value', c='purple')\n",
    "plt.figure()"
   ]
  },
  {
   "attachments": {},
   "cell_type": "markdown",
   "metadata": {},
   "source": [
    "Now we start Looking for Correlations:\n",
    "Since the dataset is not too large, we can compute the correlation between every pair of attributes using the corr()\n",
    "method , and helping our self whit a heatmap that facilitates understanding .The correlation coefficient ranges from –1 to 1. When it is close to 1, it means that there is a strong positive correlation while When the coefficient is close to –1, it means\n",
    "that there is a strong negative correlation . ADD THing we can notice ...?"
   ]
  },
  {
   "cell_type": "code",
   "execution_count": 21,
   "metadata": {},
   "outputs": [
    {
     "data": {
      "text/plain": [
       "<Figure size 432x288 with 0 Axes>"
      ]
     },
     "execution_count": 21,
     "metadata": {},
     "output_type": "execute_result"
    },
    {
     "data": {
      "image/png": "[encoded data removed]",
      "text/plain": [
       "<Figure size 432x288 with 2 Axes>"
      ]
     },
     "metadata": {
      "needs_background": "light"
     },
     "output_type": "display_data"
    },
    {
     "data": {
      "text/plain": [
       "<Figure size 432x288 with 0 Axes>"
      ]
     },
     "metadata": {},
     "output_type": "display_data"
    }
   ],
   "source": [
    "\n",
    "# Creating a correlation matrix heatmap to look at the relation between variables\n",
    "sns.heatmap(df.corr(), annot=True)\n",
    "plt.figure()"
   ]
  },
  {
   "attachments": {},
   "cell_type": "markdown",
   "metadata": {},
   "source": [
    "Since this is a costumer segmentation task we tought that analisising  where most customers are from was an important insight  .\n",
    "From the graphs we can esealy state that there are more customers in cities that are capitals (ex São Paulo, Rio de Janeiro, )"
   ]
  },
  {
   "cell_type": "code",
   "execution_count": 22,
   "metadata": {},
   "outputs": [
    {
     "data": {
      "text/plain": [
       "Text(0, 0.5, 'Number of Customers')"
      ]
     },
     "execution_count": 22,
     "metadata": {},
     "output_type": "execute_result"
    },
    {
     "data": {
      "image/png": "[encoded data removed]",
      "text/plain": [
       "<Figure size 432x288 with 1 Axes>"
      ]
     },
     "metadata": {
      "needs_background": "light"
     },
     "output_type": "display_data"
    },
    {
     "data": {
      "image/png": "[encoded data removed]",
      "text/plain": [
       "<Figure size 432x288 with 1 Axes>"
      ]
     },
     "metadata": {
      "needs_background": "light"
     },
     "output_type": "display_data"
    }
   ],
   "source": [
    "# Counting customers per city and per state and creating dataframes with the purpose of plotting a graph\n",
    "customerstate = df.groupby('customer_state').count()[\n",
    "    'customer_id'].reset_index()\n",
    "customercity = df.groupby('customer_city').count()['customer_id'].reset_index()\n",
    "\n",
    "# Graph of numer of customers in each state\n",
    "plt.figure()\n",
    "sns.barplot(data=customerstate.sort_values('customer_id',\n",
    "            ascending=False), x='customer_state', y='customer_id')\n",
    "plt.title('Number of Customers per State', fontweight='bold')\n",
    "plt.xlabel('State')\n",
    "plt.ylabel('Number of Customers')\n",
    "\n",
    "# Graph of top 10 cities with most customers\n",
    "plt.figure()\n",
    "sns.barplot(data=customercity.sort_values('customer_id', ascending=False).nlargest(\n",
    "    10, 'customer_id'), x='customer_id', y='customer_city')\n",
    "plt.title('Cities with more Customers', fontweight='bold')\n",
    "plt.xlabel('City')\n",
    "plt.ylabel('Number of Customers')"
   ]
  },
  {
   "attachments": {},
   "cell_type": "markdown",
   "metadata": {},
   "source": [
    "To continue our analisis we goup similar categories we founded in the data set this will be useful now for the plots but also later when we proceed whit featurs engeniering .\n",
    "We decided to arbitrarily assign certain products to different categories following a simple logical criterion(ex for all the products related to fashion and beauty we created a category named fashion_beauty).Than we plotted an insigth that can be very intresting for the Company to have : which are the most orders category of products wich the least ordered ones ?\n"
   ]
  },
  {
   "cell_type": "code",
   "execution_count": 23,
   "metadata": {},
   "outputs": [],
   "source": [
    "# Grouping similar categories of product category names in case we use this variable in future analysis (encoding becomes easier, there would be less dummies)\n",
    "df['product_category_name_english'] = df['product_category_name_english'].replace(['art', 'arts_and_craftmanship', 'sports_leisure',\n",
    "                                                                                   'garden_tools', 'flowers', 'music', 'musical_instruments',\n",
    "                                                                                   'books_general_interest', 'books_imported', 'books_technical'], 'hobbies')\n",
    "df['product_category_name_english'] = df['product_category_name_english'].replace(['air_conditioning', 'bed_bath_table', 'furniture_bedroom',\n",
    "                                                                                   'furniture_decor', 'furniture_living_room', 'home_appliances',\n",
    "                                                                                   'home_appliances_2', 'home_comfort_2', 'home_confort',\n",
    "                                                                                   'home_construction', 'housewares', 'kitchen_dining_laundry_garden_furniture',\n",
    "                                                                                   'small_appliances', 'small_appliances_home_oven_and_coffee', 'office_furniture',\n",
    "                                                                                   'signaling_and_security', 'stationery', 'luggage_accessories'], 'home_products')\n",
    "df['product_category_name_english'] = df['product_category_name_english'].replace(\n",
    "    ['drinks', 'food', 'food_drink'], 'food_drink')\n",
    "df['product_category_name_english'] = df['product_category_name_english'].replace(['construction_tools_construction', 'construction_tools_lights',\n",
    "                                                                                   'construction_tools_safety', 'costruction_tools_garden',\n",
    "                                                                                   'costruction_tools_tools'], 'construction_tools')\n",
    "df['product_category_name_english'] = df['product_category_name_english'].replace(['audio', 'auto', 'cds_dvds_musicals', 'cine_photo', 'computers',\n",
    "                                                                                   'computers_accessories', 'consoles_games', 'dvds_blu_ray', 'electronics',\n",
    "                                                                                   'fixed_telephony', 'telephony', 'tablets_printing_image'], 'electronic_gadgets')\n",
    "df['product_category_name_english'] = df['product_category_name_english'].replace(['fashion_bags_accessories', 'fashion_childrens_clothes', 'fashion_male_clothing',\n",
    "                                                                                   'fashion_shoes', 'fashion_underwear_beach', 'health_beauty', 'perfumery'], 'fashion_beauty')\n",
    "df['product_category_name_english'] = df['product_category_name_english'].replace(['baby', 'diapers_and_hygiene', 'toys', 'party_supplies', 'pet_shop',\n",
    "                                                                                   'christmas_supplies', 'cool_stuff', 'watches_gifts'], 'family_festivities')\n",
    "df['product_category_name_english'] = df['product_category_name_english'].replace(\n",
    "    ['industry_commerce_and_business', 'market_place'], 'sellers')\n",
    "\n"
   ]
  },
  {
   "cell_type": "code",
   "execution_count": 25,
   "metadata": {},
   "outputs": [
    {
     "data": {
      "text/plain": [
       "Text(0, 0.5, 'Product Category')"
      ]
     },
     "execution_count": 25,
     "metadata": {},
     "output_type": "execute_result"
    },
    {
     "data": {
      "image/png": "[encoded data removed]",
      "text/plain": [
       "<Figure size 1080x864 with 2 Axes>"
      ]
     },
     "metadata": {
      "needs_background": "light"
     },
     "output_type": "display_data"
    }
   ],
   "source": [
    "# Counting the product categories to check which one is most and less ordered\n",
    "best_seller_p = df['product_category_name_english'].value_counts(\n",
    ").reset_index().nlargest(5, 'product_category_name_english')\n",
    "worst_seller_p = df['product_category_name_english'].value_counts(\n",
    ").reset_index().nsmallest(5, 'product_category_name_english')\n",
    "\n",
    "# Graphs aesthetic\n",
    "plt.figure(figsize=(15, 12))\n",
    "green_color = sns.color_palette()[3]\n",
    "red_color = sns.color_palette()[2]\n",
    "\n",
    "# Graph of top 10 most ordered products\n",
    "plt.subplot(211)\n",
    "sns.barplot(data=best_seller_p, x='product_category_name_english',\n",
    "            y='index', color=green_color)\n",
    "plt.title('Top 5 Product Categories Ordered', fontweight='bold')\n",
    "plt.xlabel('Number of Orders')\n",
    "plt.ylabel('Product Category')\n",
    "\n",
    "# Graph of top 10 less ordered products\n",
    "plt.subplot(212)\n",
    "sns.barplot(data=worst_seller_p, x='product_category_name_english',\n",
    "            y='index', color=red_color)\n",
    "plt.title('Lowest 5 Product Categories Ordered', fontweight='bold')\n",
    "plt.xlabel('Number of Orders')\n",
    "plt.ylabel('Product Category')"
   ]
  },
  {
   "attachments": {},
   "cell_type": "markdown",
   "metadata": {},
   "source": [
    "The last but not least intresting insights we decided to get a look at are order by paiment type and orders whit the number of payment instalments.By looking at the plot on the left we can see that the majority of the costumers is paying whit a credit card these fact can be interpreteted as a canfermation of our firts assumtion because it will not be strange to pay whit a credic card in an ecoomrce .From the plot on the rigth insted we can see that most of our costumers pay their order in one time (non a rate)"
   ]
  },
  {
   "cell_type": "code",
   "execution_count": 26,
   "metadata": {},
   "outputs": [
    {
     "data": {
      "text/plain": [
       "Text(0, 0.5, 'Count of Orders')"
      ]
     },
     "execution_count": 26,
     "metadata": {},
     "output_type": "execute_result"
    },
    {
     "data": {
      "image/png": "[encoded data removed]",
      "text/plain": [
       "<Figure size 1800x504 with 2 Axes>"
      ]
     },
     "metadata": {
      "needs_background": "light"
     },
     "output_type": "display_data"
    }
   ],
   "source": [
    "\n",
    "# Counting different payment types to plot which ones are more used\n",
    "payments_types = df['payment_type'].value_counts().reset_index()\n",
    "\n",
    "plt.figure(figsize=(25, 7))\n",
    "\n",
    "# Graph of number of orders per payment type\n",
    "plt.subplot(121)\n",
    "sns.barplot(data=payments_types, x='index', y='payment_type')\n",
    "plt.title('Orders by Payment type', fontweight='bold')\n",
    "plt.xlabel('Payment Type')\n",
    "plt.ylabel('Number of Orders')\n",
    "\n",
    "# Graph of number of orders per number of payment installments\n",
    "plt.subplot(122)\n",
    "sns.barplot(data=df['payment_installments'].value_counts(\n",
    ").reset_index(), x='index', y='payment_installments')\n",
    "plt.title('Count of Orders With Number of Payment Installments', fontweight='bold')\n",
    "plt.xlabel('Number of Payment Installments')\n",
    "plt.ylabel('Count of Orders')"
   ]
  },
  {
   "attachments": {},
   "cell_type": "markdown",
   "metadata": {},
   "source": [
    "After all these intrasting insigths we procede whit the encoding"
   ]
  }
 ],
 "metadata": {
  "kernelspec": {
   "display_name": "Python 3.9.10 64-bit",
   "language": "python",
   "name": "python3"
  },
  "language_info": {
   "codemirror_mode": {
    "name": "ipython",
    "version": 3
   },
   "file_extension": ".py",
   "mimetype": "text/x-python",
   "name": "python",
   "nbconvert_exporter": "python",
   "pygments_lexer": "ipython3",
   "version": "3.9.10"
  },
  "orig_nbformat": 4,
  "vscode": {
   "interpreter": {
    "hash": "1c2bd8370d9835a4a8706f1c8ec7394e0db6556a7b06b35ae493fb0b20d49980"
   }
  }
 },
 "nbformat": 4,
 "nbformat_minor": 2
}
